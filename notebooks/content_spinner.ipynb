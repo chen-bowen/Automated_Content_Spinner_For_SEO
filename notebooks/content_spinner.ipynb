{
 "cells": [
  {
   "cell_type": "markdown",
   "metadata": {},
   "source": [
    "## Autotmated Content Spinning with NLP"
   ]
  },
  {
   "cell_type": "markdown",
   "metadata": {},
   "source": [
    "import content spinner as a module"
   ]
  },
  {
   "cell_type": "code",
   "execution_count": 1,
   "metadata": {},
   "outputs": [],
   "source": [
    "import os\n",
    "os.chdir(\"..\")"
   ]
  },
  {
   "cell_type": "code",
   "execution_count": 2,
   "metadata": {},
   "outputs": [],
   "source": [
    "from content_spinner.content_spinner import ContentSpinner\n",
    "import numpy as np\n",
    "import json"
   ]
  },
  {
   "cell_type": "markdown",
   "metadata": {},
   "source": [
    "get a list of content for our cotent spinner to regenerate"
   ]
  },
  {
   "cell_type": "code",
   "execution_count": 3,
   "metadata": {},
   "outputs": [],
   "source": [
    "with open(\"content_spinner/content_spinner/data/cache/text_tokenized.json\", \"r\") as fp:\n",
    "    text_tokenized = json.load(fp)"
   ]
  },
  {
   "cell_type": "code",
   "execution_count": 4,
   "metadata": {},
   "outputs": [],
   "source": [
    "content_list = [\" \".join(text_tokenized[i]) for i in np.random.choice(len(text_tokenized), 5)]"
   ]
  },
  {
   "cell_type": "markdown",
   "metadata": {},
   "source": [
    "Use the built content spinner to generate spinned content"
   ]
  },
  {
   "cell_type": "code",
   "execution_count": 5,
   "metadata": {},
   "outputs": [],
   "source": [
    "spinner = ContentSpinner()\n",
    "spinned_content = spinner.generate_spinned_content(content_list)"
   ]
  },
  {
   "cell_type": "code",
   "execution_count": 6,
   "metadata": {},
   "outputs": [
    {
     "name": "stdout",
     "output_type": "stream",
     "text": [
      "original content :\n",
      " The uncut version of the anime is much better than what is aired on TV . Though there are still some diferences between the Japanese version and what is in the uncut version . I would n't recomend the special edition unless you are a hard core Naruto fan . The bonus items that come with it are mainly geared toward younger viewers and not much towards adult viewrs \n",
      "\n",
      "spinned content :\n",
      " The version of the snowpack is much higher than what is aired on PBS. Though there are still some diferences between the Japanese version and what is in the uncut version. I would n't recomend the special edition unless you are a hard core Naruto fan. The bonus items that come with it are mainly geared toward younger viewers and not much towards \n",
      "\n",
      "original content :\n",
      " `` Underground Education '' does not so much offer a radical intellectual perspective , as is perhaps implied by the title . But rather is a collection of funny stories and oddball facts about various people and events from the past . Some of the historical figures are famous , such as George Washington and Cleopatra . While others , like the several female serial killers discussed , are more obscure . The book is divided into 10 chapters , including the arts , religion , science and sex . Actually , this book reminds me somewhat of the `` People 's Almanac '' series written by David Wallechinsky . But here the emphasis is definitely on the strange and often perverse . It 's a fun read for those interested in this sort of knowledge . But some entries are overlong and most readers will probably want to read the sections of greatest interest rather than cover to cover . Still it is a worthwhile purchase . \n",
      "\n",
      "spinned content :\n",
      " `` Education `` does not so much offer a radical intellectual perspective, as is perhaps contradicted by the title. But rather is a collection of funny stories and oddball facts about various people and jinn from the past. ===Meaning of the historical figures are famous, such as George Washington and Cleopatra. While others, like the several female serial killers discussed, are more popular. The book is divided into 10 chapters, including performing arts, religion, science and sex. Actually, this book reminds me somewhat of the `` People's Almanac `` series written by David Wallechinsky. But here the emphasis is definitely on the tail and often perverse. It's a fun read for those founded in this sort of knowledge. But some entries are overlong and most readers will probably want to read the sections of greatest interest rather than cover to cover. Still it is a worthwhile \n",
      "\n",
      "original content :\n",
      " I bought this heater three years ago based on the good reviews and cheap price . I expected it to get me through that winter only . I have used this thing just about daily for the past three years , heat in fall/winter and fan in summer . It still works quite well and seems ready for the upcoming winter . The only problem I am beginning to notice now is that the on/off/heat control wheel is starting to become loose . Otherwise it does a great job for the intended task and has already lasted longer than anticipated . The thermostat on it is finicky and takes a little playing around with it to do basically what you want but the heat does cycle on/off more or less appropriately . I 'd give 5 stars if the thermostat was perfect but it is what it is and that is good enough . I just bought two more , my old one will go to the garage for duty there until it eventually fails . A good , solid product for a very good price \n",
      "\n",
      "spinned content :\n",
      " I this heater three years ago based on the good reviews and cheap price. I expected it to get me through that winter only. I've used this thing just about impossible for the past ten years, heat in fall/winter and fan in summer. It still works quite well and seems ready for the upcoming winter. The only problem I am beginning to notice now is that the on/off/heat control wheel is starting to become loose. Otherwise it does a great job for the intended task and has already lasted longer than anticipated. The thermostat on it is finicky and takes a little playing around with it to do basically what you want but the heat does cycle on/off more or less appropriately. I'd give 5 stars if the thermostat was perfect but it is what it is and that is good enough. I just bought two more, my old one will go to the garage for duty there until it eventually fails. A good, solid product for a very \n",
      "\n",
      "original content :\n",
      " I purchased this item for a long trip so I could charge and/or play my Zen mp3 player in the car without worrying about battery life on the trip . It worked great . I am also planning to use it for my notebook in the car the same way because the car adapter for my notebook costs $ 100 \n",
      "\n",
      "spinned content :\n",
      " I this item for a long trip so I could charge and/or play my Zen mp3 player in the car without worrying about battery life on the walls. It's great. I am also planning to use it for my notebook in the cup the same way because the car adapter for my notebook costs \n",
      "\n",
      "original content :\n",
      " Great price for beautiful , high-quality sheets that get softer with every wash. Fabulous color ! Sheets fit well over a mattress with pillow-top . Recommend 100 % . \n",
      "\n",
      "spinned content :\n",
      " Great for beautiful, high-quality sheets that get softer with every wash. Fabulous color! Sheets fit well over a mattress with pillow-top. Recommend 100 \n",
      "\n"
     ]
    }
   ],
   "source": [
    "for i in range(len(content_list)):\n",
    "    print(\"original content :\\n {} \\n\".format(content_list[i]))\n",
    "    print(\"spinned content :\\n {} \\n\".format(spinned_content[i]))"
   ]
  },
  {
   "cell_type": "code",
   "execution_count": null,
   "metadata": {},
   "outputs": [],
   "source": []
  }
 ],
 "metadata": {
  "kernelspec": {
   "display_name": "content_spinner",
   "language": "python",
   "name": "content_spinner"
  },
  "language_info": {
   "codemirror_mode": {
    "name": "ipython",
    "version": 3
   },
   "file_extension": ".py",
   "mimetype": "text/x-python",
   "name": "python",
   "nbconvert_exporter": "python",
   "pygments_lexer": "ipython3",
   "version": "3.8.5"
  }
 },
 "nbformat": 4,
 "nbformat_minor": 4
}
