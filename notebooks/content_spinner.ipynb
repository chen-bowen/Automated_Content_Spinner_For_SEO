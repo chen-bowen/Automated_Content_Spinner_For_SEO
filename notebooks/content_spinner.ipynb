{
 "cells": [
  {
   "cell_type": "markdown",
   "metadata": {},
   "source": [
    "## Autotmated Content Spinning with NLP"
   ]
  },
  {
   "cell_type": "markdown",
   "metadata": {},
   "source": [
    "import content spinner as a module"
   ]
  },
  {
   "cell_type": "code",
   "execution_count": 1,
   "metadata": {},
   "outputs": [],
   "source": [
    "import os\n",
    "os.chdir(\"..\")"
   ]
  },
  {
   "cell_type": "code",
   "execution_count": 2,
   "metadata": {},
   "outputs": [],
   "source": [
    "from content_spinner.content_spinner import ContentSpinner\n",
    "import numpy as np\n",
    "import json"
   ]
  },
  {
   "cell_type": "markdown",
   "metadata": {},
   "source": [
    "get a list of content for our cotent spinner to regenerate"
   ]
  },
  {
   "cell_type": "code",
   "execution_count": 5,
   "metadata": {},
   "outputs": [],
   "source": [
    "with open(\"content_spinner/content_spinner/data/cache/text_tokenized.json\", \"r\") as fp:\n",
    "    text_tokenized = json.load(fp)"
   ]
  },
  {
   "cell_type": "code",
   "execution_count": 6,
   "metadata": {},
   "outputs": [],
   "source": [
    "content_list = [\" \".join(text_tokenized[i]) for i in np.random.choice(len(text_tokenized), 5)]"
   ]
  },
  {
   "cell_type": "code",
   "execution_count": 9,
   "metadata": {},
   "outputs": [
    {
     "data": {
      "text/plain": [
       "array([1694683, 2659224, 4683171,  106735, 6632764])"
      ]
     },
     "execution_count": 9,
     "metadata": {},
     "output_type": "execute_result"
    }
   ],
   "source": [
    "np.random.choice(len(text_tokenized), 5)"
   ]
  },
  {
   "cell_type": "code",
   "execution_count": 11,
   "metadata": {},
   "outputs": [
    {
     "data": {
      "text/plain": [
       "['tired',\n",
       " 'working',\n",
       " 'child',\n",
       " 'humour',\n",
       " 'title',\n",
       " 'heard',\n",
       " 'new',\n",
       " 'science',\n",
       " 'fiction',\n",
       " 'title',\n",
       " 'wa',\n",
       " 'put',\n",
       " 'together',\n",
       " 'ipc',\n",
       " 'went',\n",
       " 'see',\n",
       " 'pat',\n",
       " 'mill',\n",
       " 'asked',\n",
       " 'transferred',\n",
       " 'new',\n",
       " 'comic',\n",
       " 'wa',\n",
       " 'called',\n",
       " '2000']"
      ]
     },
     "execution_count": 11,
     "metadata": {},
     "output_type": "execute_result"
    }
   ],
   "source": [
    "text_tokenized[2659224]"
   ]
  },
  {
   "cell_type": "code",
   "execution_count": null,
   "metadata": {},
   "outputs": [],
   "source": []
  }
 ],
 "metadata": {
  "kernelspec": {
   "display_name": "content_spinner",
   "language": "python",
   "name": "content_spinner"
  },
  "language_info": {
   "codemirror_mode": {
    "name": "ipython",
    "version": 3
   },
   "file_extension": ".py",
   "mimetype": "text/x-python",
   "name": "python",
   "nbconvert_exporter": "python",
   "pygments_lexer": "ipython3",
   "version": "3.8.5"
  }
 },
 "nbformat": 4,
 "nbformat_minor": 4
}
