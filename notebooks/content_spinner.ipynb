{
 "cells": [
  {
   "cell_type": "markdown",
   "metadata": {},
   "source": [
    "## Autotmated Content Spinning with NLP"
   ]
  },
  {
   "cell_type": "markdown",
   "metadata": {},
   "source": [
    "import content spinner as a module"
   ]
  },
  {
   "cell_type": "code",
   "execution_count": 1,
   "metadata": {},
   "outputs": [],
   "source": [
    "import os\n",
    "os.chdir(\"..\")"
   ]
  },
  {
   "cell_type": "code",
   "execution_count": 2,
   "metadata": {},
   "outputs": [],
   "source": [
    "from content_spinner.content_spinner import ContentSpinner\n",
    "import numpy as np\n",
    "import json"
   ]
  },
  {
   "cell_type": "markdown",
   "metadata": {},
   "source": [
    "get a list of content for our cotent spinner to regenerate"
   ]
  },
  {
   "cell_type": "code",
   "execution_count": 3,
   "metadata": {},
   "outputs": [],
   "source": [
    "with open(\"content_spinner/data/cache/text_tokenized.json\", \"r\") as fp:\n",
    "    text_tokenized = json.load(fp)"
   ]
  },
  {
   "cell_type": "code",
   "execution_count": 4,
   "metadata": {},
   "outputs": [],
   "source": [
    "content_list = [\" \".join(text_tokenized[i]) for i in np.random.choice(len(text_tokenized), 5)]"
   ]
  },
  {
   "cell_type": "code",
   "execution_count": 5,
   "metadata": {},
   "outputs": [
    {
     "data": {
      "text/plain": [
       "['Love these measuring cups . Easy to use and see measurements . No more bending or guessing . Worth the money',\n",
       " 'Different , refreshing , entertaining , funny , eye opening .... even better than reading the book is to listen to it ( buy the Audio CD ! ) on a loooooong drive ..',\n",
       " \"I have always run all of my media through my pc and my former speaker set ( a Midiland 5.1 system ) was thoroughly aged and falling apart I decided it was time to upgrade . I wanted something that had incredible sound with both music and dvd 's . I shopped around and came to the conclusion I would aim for the form factor speakers . When considering this bose system , this MUST be taken into account . First off , this system is expensive . For just under 1000 dollars ( does n't 999 sound sooo much better than 1g ? ) you get 5 bi-directional midrange speakers , the subwoofer unit , and speaker cable . At this price it is very disappointing that bose does not include some sort of receiver , but no matter this leaves room for the customer to customize his/her choice to suit any personal needs and/or budget . Bose includes 3 colors ( white , silver , black ) and all the speakers are well packaged and aesthetically pleasing with the exception of the sub unit ( a large rectangular box meant to save space but does not ) . What brought me to look into this system was the specific size of the speakers and there general attractiveness . For their size the bose do a very good job of reproducing any sound-granted they are paired with a competent receiver . Anyone who has any qualms about this system should first consider what they are running their sound through , without competent equipment these speakers will not be on par with what you heard in the store . Once I got the system home it was very easy to set up and install . Bose packages the speakers with clear instructions and all of the wires are meant to be hidden and include markings as to what speakers they belong to-a very handy feature especially when one is trying to hide this system . The only serious issue I have with this system ended up being with my receiver ( an Onkyo ) and not related at all with the speakers . Since I do run this through my computer ( presently a laptop ) I had a few troubles setting up a new sound card and getting it too mesh with my receiver , but when that was all said and done , I was extremely please with the system . With a bose the tweaking one needs to do is very minimal and thus why this deserves the higher price tag-its target audience is usually those more affluent and unable to spend hours tweaking individual speaker levels and sound ranges . My test soundtracks included : Gladiator , Matrix ( II or III ) , Snatch , and music tracks ranging from techno , rock , classical , and alternative . Everything sounded great with enough low , high , and midrange response . The second complaint I have with this system is not differentiating in the least between any of the satellites . I found myself turning the response on the center channel up so the front speakers were n't drowning out the voices . That was solved with a little tweaking so nothing major there . All in all this speaker system is a great investment in my mind satisfying all of my needs ( though draining my bank account ) and providing me with great surround sound.Good : Great range and volume of sound . Easy set-up . Well built speakers-aesthetically and physically . No interference or feedback.Bad : Subwoofer awkward , no dedicated center channel , pricey , no included receiver.For their size these speakers more than compete with any full-blown tower 5.1 system . Here is one satisfied customer\",\n",
       " 'Awesome College Movie . My only regret is that I did not see this movie during my college years . Alas , they have the DVD now ! Yay !',\n",
       " \"This grill is awesome ! I ordered it to replace my old grill , which did n't have the removeable plates and was worn down . The removeable grills make this so easy to clean ... maybe takes 5 minutes . I had looked at a couple of other contact grills from different manufacturers , and though this one was more expensive , I thought it had a better design than some of the others I looked it . Definitely recommended , do n't hesitate to buy this if you 're thinking about it\"]"
      ]
     },
     "execution_count": 5,
     "metadata": {},
     "output_type": "execute_result"
    }
   ],
   "source": [
    "content_list"
   ]
  },
  {
   "cell_type": "markdown",
   "metadata": {},
   "source": [
    "Use the built content spinner to generate spinned content"
   ]
  },
  {
   "cell_type": "code",
   "execution_count": 6,
   "metadata": {},
   "outputs": [],
   "source": [
    "spinner = ContentSpinner()\n",
    "spinned_content = spinner.generate_spinned_content(content_list)"
   ]
  },
  {
   "cell_type": "code",
   "execution_count": 7,
   "metadata": {},
   "outputs": [
    {
     "name": "stdout",
     "output_type": "stream",
     "text": [
      "original content :\n",
      " Love these measuring cups . Easy to use and see measurements . No more bending or guessing . Worth the money \n",
      "\n",
      "spinned content :\n",
      " Love these measuring cups. Easy to use and see measurements. No more bending or guessing. Worth the money \n",
      "\n",
      "original content :\n",
      " Different , refreshing , entertaining , funny , eye opening .... even better than reading the book is to listen to it ( buy the Audio CD ! ) on a loooooong drive .. \n",
      "\n",
      "spinned content :\n",
      " Different, refreshing, entertaining, funny, eye opening.... even better than reading the book is to refer to it ( buy the Audio CD! ) on a loooooong drive.. \n",
      "\n",
      "original content :\n",
      " I have always run all of my media through my pc and my former speaker set ( a Midiland 5.1 system ) was thoroughly aged and falling apart I decided it was time to upgrade . I wanted something that had incredible sound with both music and dvd 's . I shopped around and came to the conclusion I would aim for the form factor speakers . When considering this bose system , this MUST be taken into account . First off , this system is expensive . For just under 1000 dollars ( does n't 999 sound sooo much better than 1g ? ) you get 5 bi-directional midrange speakers , the subwoofer unit , and speaker cable . At this price it is very disappointing that bose does not include some sort of receiver , but no matter this leaves room for the customer to customize his/her choice to suit any personal needs and/or budget . Bose includes 3 colors ( white , silver , black ) and all the speakers are well packaged and aesthetically pleasing with the exception of the sub unit ( a large rectangular box meant to save space but does not ) . What brought me to look into this system was the specific size of the speakers and there general attractiveness . For their size the bose do a very good job of reproducing any sound-granted they are paired with a competent receiver . Anyone who has any qualms about this system should first consider what they are running their sound through , without competent equipment these speakers will not be on par with what you heard in the store . Once I got the system home it was very easy to set up and install . Bose packages the speakers with clear instructions and all of the wires are meant to be hidden and include markings as to what speakers they belong to-a very handy feature especially when one is trying to hide this system . The only serious issue I have with this system ended up being with my receiver ( an Onkyo ) and not related at all with the speakers . Since I do run this through my computer ( presently a laptop ) I had a few troubles setting up a new sound card and getting it too mesh with my receiver , but when that was all said and done , I was extremely please with the system . With a bose the tweaking one needs to do is very minimal and thus why this deserves the higher price tag-its target audience is usually those more affluent and unable to spend hours tweaking individual speaker levels and sound ranges . My test soundtracks included : Gladiator , Matrix ( II or III ) , Snatch , and music tracks ranging from techno , rock , classical , and alternative . Everything sounded great with enough low , high , and midrange response . The second complaint I have with this system is not differentiating in the least between any of the satellites . I found myself turning the response on the center channel up so the front speakers were n't drowning out the voices . That was solved with a little tweaking so nothing major there . All in all this speaker system is a great investment in my mind satisfying all of my needs ( though draining my bank account ) and providing me with great surround sound.Good : Great range and volume of sound . Easy set-up . Well built speakers-aesthetically and physically . No interference or feedback.Bad : Subwoofer awkward , no dedicated center channel , pricey , no included receiver.For their size these speakers more than compete with any full-blown tower 5.1 system . Here is one satisfied customer \n",
      "\n",
      "spinned content :\n",
      " I have always run all of my media through my pc and my former speaker set ( a Midiland 5.1 system ) was thoroughly aged and falling apart I decided it is necessary to go. I wanted something that had incredible sound with both music and dvd's. I looked around and says to the conclusion I would head for the form factor speakers. When considering this bose system, this should be taken into account. First off, this system is conserved. For just under 1000 dollars ( does n't 999 sound sooo much better than 1g ? ) you get 5 bi-directional midrange speakers, the family unit, and speaker cable. At that day it is very disappointing that bose does not include some sort of trouble, but no matter this leaves room for the customer to customize his/her choice to suit any personal needs and/or budget. Bose includes 3 colors ( white, red, black ) and all the speakers are well packaged and aesthetically pleasing with the results of the political unit ( a large rectangular box meant to save space but does not exist. What brought me to look into this system was the small folding of the service and there general attractiveness. For their size the bose do a darn good job of reproducing any sound-granted they are printed with a GPS receiver. Anyone who has any qualms about this system should first consider what they are running their sound through, without competent equipment these speakers will not be on par with what you say in the vote. Once I got the system, it was comparatively easy to set up and install. Bose packages the speakers with clear instructions and all of the work are meant to be hidden and include markings as to what speakers they belong to-a very handy feature especially when one is trying to hide this system. The most serious issue I have used this system ended up being with my receiver ( an agonist ) and not messy at all with the judgment. Since I do run this through my computer ( presently a laptop ) I had a few troubles setting up a new sound card and getting it too mesh with my iPod, but one that was all said and done, I was extremely impressed with the army. With a bose the tweaking one needs to do is very unlikely and thus why this deserves the higher price tag-its target audience is usually those more affluent and unable to spend hours tweaking individual speaker levels and sound ranges. My test soundtracks included : Gladiator, Matrix ( II, III ), snails, and music, ranging from techno, rock, industrial, and alternative. Everything sounded great with enough low, however, and faint response. The only complaint I have used this rearrangement is not included in the least between any of the wagon. I found myself turning the capstans on the center channel up so the front speakers were n't coming out their voices. That was solved with a little tweaking so nothing major there. All in all this speaker system is a continuing lesson in my mind satisfying all of my needs ( though draining my bank account ) and providing me with great surround sound.Good : Great range and volume of sound. Easy set-up. Well built speakers-aesthetically and physically. No interference or feedback.Bad : Subwoofer awkward, no dedicated center channel, pricey, no included receiver.For their size these speakers more than compete with any full-blown tower 5.1 system. It is one satisfied customer \n",
      "\n",
      "original content :\n",
      " Awesome College Movie . My only regret is that I did not see this movie during my college years . Alas , they have the DVD now ! Yay ! \n",
      "\n",
      "spinned content :\n",
      " Awesome College Movie. My only plea is that Satie can not see this movie during my college years. Eventually, they released the DVD now! Yay! \n",
      "\n",
      "original content :\n",
      " This grill is awesome ! I ordered it to replace my old grill , which did n't have the removeable plates and was worn down . The removeable grills make this so easy to clean ... maybe takes 5 minutes . I had looked at a couple of other contact grills from different manufacturers , and though this one was more expensive , I thought it had a better design than some of the others I looked it . Definitely recommended , do n't hesitate to buy this if you 're thinking about it \n",
      "\n",
      "spinned content :\n",
      " This grill is awesome! I ordered it to replace my old grill, which do not have the removeable plates and was turned down. The removeable grills make this desktop easy to clean... maybe takes 5 minutes. I then looked at a number of other contact grills from different regions, and condemned this one was more expensive, I thought they had a different design than some of the others I looked it. Definitely recommended, do n't need to buy this if you're thoughtful about it \n",
      "\n"
     ]
    }
   ],
   "source": [
    "for i in range(len(content_list)):\n",
    "    print(\"original content :\\n {} \\n\".format(content_list[i]))\n",
    "    print(\"spinned content :\\n {} \\n\".format(spinned_content[i]))"
   ]
  },
  {
   "cell_type": "code",
   "execution_count": null,
   "metadata": {},
   "outputs": [],
   "source": []
  },
  {
   "cell_type": "code",
   "execution_count": null,
   "metadata": {},
   "outputs": [],
   "source": []
  }
 ],
 "metadata": {
  "kernelspec": {
   "display_name": "content_spinner",
   "language": "python",
   "name": "content_spinner"
  },
  "language_info": {
   "codemirror_mode": {
    "name": "ipython",
    "version": 3
   },
   "file_extension": ".py",
   "mimetype": "text/x-python",
   "name": "python",
   "nbconvert_exporter": "python",
   "pygments_lexer": "ipython3",
   "version": "3.8.5"
  }
 },
 "nbformat": 4,
 "nbformat_minor": 4
}
