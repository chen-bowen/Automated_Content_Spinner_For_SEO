{
 "cells": [
  {
   "cell_type": "markdown",
   "metadata": {},
   "source": [
    "## Autotmated Content Spinning with NLP"
   ]
  },
  {
   "cell_type": "markdown",
   "metadata": {},
   "source": [
    "import content spinner as a module"
   ]
  },
  {
   "cell_type": "code",
   "execution_count": 1,
   "metadata": {},
   "outputs": [],
   "source": [
    "import os\n",
    "os.chdir(\"..\")"
   ]
  },
  {
   "cell_type": "code",
   "execution_count": 2,
   "metadata": {},
   "outputs": [],
   "source": [
    "from content_spinner.content_spinner import ContentSpinner\n",
    "import numpy as np\n",
    "import json"
   ]
  },
  {
   "cell_type": "markdown",
   "metadata": {},
   "source": [
    "get a list of content for our cotent spinner to regenerate"
   ]
  },
  {
   "cell_type": "code",
   "execution_count": 3,
   "metadata": {},
   "outputs": [],
   "source": [
    "with open(\"content_spinner/data/cache/text_tokenized.json\", \"r\") as fp:\n",
    "    text_tokenized = json.load(fp)"
   ]
  },
  {
   "cell_type": "code",
   "execution_count": 4,
   "metadata": {},
   "outputs": [],
   "source": [
    "content_list = [\" \".join(text_tokenized[i]) for i in np.random.choice(len(text_tokenized), 5)]"
   ]
  },
  {
   "cell_type": "markdown",
   "metadata": {},
   "source": [
    "Use the built content spinner to generate spinned content"
   ]
  },
  {
   "cell_type": "code",
   "execution_count": 5,
   "metadata": {},
   "outputs": [],
   "source": [
    "spinner = ContentSpinner()\n",
    "spinned_content = spinner.generate_spinned_content(content_list)"
   ]
  },
  {
   "cell_type": "code",
   "execution_count": 6,
   "metadata": {},
   "outputs": [
    {
     "name": "stdout",
     "output_type": "stream",
     "text": [
      "original content :\n",
      " Well constructed , good lid fit and solid handles . The cover handle gets very hot in use but this is to be expected as it is metal . The saucepan handle is quite narrow and if wet , or greasy , could be annoying to handle when draining the pan ( although I have not had this problem with any of the pans in this range ) . All in all , I think this is excellent valu \n",
      "\n",
      "spinned content :\n",
      " Well constructed, good lid fit and solid angle. The cover handle gets very hot in use ; this proved to be therapeutic as it is meaningless. The cocking handle is quite perishable and if wet, or precepts, could be used to handle when draining the pan ( although I have long had a problem with one of the lake in this situation ). As in all, I believe this is excellent valu \n",
      "\n",
      "original content :\n",
      " It is n't at all like what I expected . It is a very dense Jersey ( knit ) and keeps shape while stretching over an 18 '' mattress \n",
      "\n",
      "spinned content :\n",
      " It is not at all like what I read. It was a very dense Jersey ( 1852–1855 ) and keeps shape while stretching over an 18 `` mattress \n",
      "\n",
      "original content :\n",
      " I am extremely pleased with the purchase . I am using it in my office . Simple plug and play ( no brainer ) ! ! If I get the MIR the cost comes to $ 5 . None can better that . Transaction with Amazon was flawless as usual \n",
      "\n",
      "spinned content :\n",
      " I am very happy with your product. I'm using it in my office. Simple plug and play ( no brainer )!! If I get the MIR the cost comes to $5. None can better that. Transaction with Amazon was flawless as usual \n",
      "\n",
      "original content :\n",
      " Good introduction to Qigong . Mirror image instruction would have been helpful for some of the more complex moves and even some moves with back to the camera would have been helpful . Overall relaxing and precise . \n",
      "\n",
      "spinned content :\n",
      " Good introduction to Qigong. Mirror image instruction would have been required for some of the more complex moves and even some moves with respect to the shrine obscura have been mixed. Overall relaxing and precise. \n",
      "\n",
      "original content :\n",
      " Although small , these little cups come in really handy . Have small amounts of liquid to measure before you measure those tablespoons of sugar or flour ? Now you do n't need to be concerned , just use a little OXO cup and move on ! I use them every time I bake and leave the measuring spoons dry or completely alone . Just love them and need another set \n",
      "\n",
      "spinned content :\n",
      " Although small, these little cups come in really handy. Have small amounts of liquid to measure before you measure those tablespoons of sugar or flour ? Now you do not seem to be recorded, just use a little OXO cup and move on! I use them every time I bake and leave the measuring spoons dry or completely alone. Just love them and need another set \n",
      "\n"
     ]
    }
   ],
   "source": [
    "for i in range(len(content_list)):\n",
    "    print(\"original content :\\n {} \\n\".format(content_list[i]))\n",
    "    print(\"spinned content :\\n {} \\n\".format(spinned_content[i]))"
   ]
  },
  {
   "cell_type": "code",
   "execution_count": null,
   "metadata": {},
   "outputs": [],
   "source": []
  }
 ],
 "metadata": {
  "kernelspec": {
   "display_name": "content_spinner",
   "language": "python",
   "name": "content_spinner"
  },
  "language_info": {
   "codemirror_mode": {
    "name": "ipython",
    "version": 3
   },
   "file_extension": ".py",
   "mimetype": "text/x-python",
   "name": "python",
   "nbconvert_exporter": "python",
   "pygments_lexer": "ipython3",
   "version": "3.8.5"
  }
 },
 "nbformat": 4,
 "nbformat_minor": 4
}
